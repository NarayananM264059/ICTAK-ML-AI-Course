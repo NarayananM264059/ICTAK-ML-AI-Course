{
 "cells": [
  {
   "cell_type": "code",
   "execution_count": 3,
   "metadata": {},
   "outputs": [],
   "source": [
    "import pandas as pd\n",
    "import numpy as np\n",
    "import matplotlib.pyplot as plt\n",
    "import seaborn as sns"
   ]
  },
  {
   "cell_type": "code",
   "execution_count": 4,
   "metadata": {},
   "outputs": [
    {
     "data": {
      "text/html": [
       "<div>\n",
       "<style scoped>\n",
       "    .dataframe tbody tr th:only-of-type {\n",
       "        vertical-align: middle;\n",
       "    }\n",
       "\n",
       "    .dataframe tbody tr th {\n",
       "        vertical-align: top;\n",
       "    }\n",
       "\n",
       "    .dataframe thead th {\n",
       "        text-align: right;\n",
       "    }\n",
       "</style>\n",
       "<table border=\"1\" class=\"dataframe\">\n",
       "  <thead>\n",
       "    <tr style=\"text-align: right;\">\n",
       "      <th></th>\n",
       "      <th>1</th>\n",
       "      <th>2</th>\n",
       "      <th>3</th>\n",
       "      <th>4</th>\n",
       "      <th>5</th>\n",
       "      <th>6</th>\n",
       "      <th>7</th>\n",
       "      <th>8</th>\n",
       "      <th>9</th>\n",
       "      <th>10</th>\n",
       "      <th>...</th>\n",
       "      <th>6821</th>\n",
       "      <th>6822</th>\n",
       "      <th>6823</th>\n",
       "      <th>6824</th>\n",
       "      <th>6825</th>\n",
       "      <th>6826</th>\n",
       "      <th>6827</th>\n",
       "      <th>6828</th>\n",
       "      <th>6829</th>\n",
       "      <th>6830</th>\n",
       "    </tr>\n",
       "  </thead>\n",
       "  <tbody>\n",
       "    <tr>\n",
       "      <th>V1</th>\n",
       "      <td>0.300000</td>\n",
       "      <td>1.180000</td>\n",
       "      <td>0.550000</td>\n",
       "      <td>1.140000</td>\n",
       "      <td>-0.265000</td>\n",
       "      <td>-7.000000e-02</td>\n",
       "      <td>0.350000</td>\n",
       "      <td>-0.315000</td>\n",
       "      <td>-0.450000</td>\n",
       "      <td>-0.654980</td>\n",
       "      <td>...</td>\n",
       "      <td>-0.990020</td>\n",
       "      <td>0.000000</td>\n",
       "      <td>0.030000</td>\n",
       "      <td>-0.175000</td>\n",
       "      <td>0.629981</td>\n",
       "      <td>-0.030000</td>\n",
       "      <td>0.000000</td>\n",
       "      <td>0.280000</td>\n",
       "      <td>-0.340000</td>\n",
       "      <td>-1.930000</td>\n",
       "    </tr>\n",
       "    <tr>\n",
       "      <th>V2</th>\n",
       "      <td>0.679961</td>\n",
       "      <td>1.289961</td>\n",
       "      <td>0.169961</td>\n",
       "      <td>0.379961</td>\n",
       "      <td>0.464961</td>\n",
       "      <td>5.799610e-01</td>\n",
       "      <td>0.699961</td>\n",
       "      <td>0.724961</td>\n",
       "      <td>-0.040039</td>\n",
       "      <td>-0.285019</td>\n",
       "      <td>...</td>\n",
       "      <td>-0.270058</td>\n",
       "      <td>-0.300039</td>\n",
       "      <td>-0.250039</td>\n",
       "      <td>-0.535039</td>\n",
       "      <td>0.109941</td>\n",
       "      <td>-0.860039</td>\n",
       "      <td>-1.250049</td>\n",
       "      <td>-0.770039</td>\n",
       "      <td>-0.390039</td>\n",
       "      <td>-2.000039</td>\n",
       "    </tr>\n",
       "    <tr>\n",
       "      <th>V3</th>\n",
       "      <td>0.940000</td>\n",
       "      <td>-0.040000</td>\n",
       "      <td>-0.170000</td>\n",
       "      <td>-0.040000</td>\n",
       "      <td>-0.605000</td>\n",
       "      <td>0.000000e+00</td>\n",
       "      <td>0.090000</td>\n",
       "      <td>0.645000</td>\n",
       "      <td>0.430000</td>\n",
       "      <td>0.475019</td>\n",
       "      <td>...</td>\n",
       "      <td>0.319981</td>\n",
       "      <td>0.120000</td>\n",
       "      <td>-0.740000</td>\n",
       "      <td>-0.595000</td>\n",
       "      <td>-0.270020</td>\n",
       "      <td>-0.150000</td>\n",
       "      <td>0.000000</td>\n",
       "      <td>-0.120000</td>\n",
       "      <td>-0.410000</td>\n",
       "      <td>0.000000</td>\n",
       "    </tr>\n",
       "    <tr>\n",
       "      <th>V4</th>\n",
       "      <td>0.280000</td>\n",
       "      <td>-0.310000</td>\n",
       "      <td>0.680000</td>\n",
       "      <td>-0.810000</td>\n",
       "      <td>0.625000</td>\n",
       "      <td>-1.387779e-17</td>\n",
       "      <td>0.170000</td>\n",
       "      <td>0.245000</td>\n",
       "      <td>0.020000</td>\n",
       "      <td>0.095019</td>\n",
       "      <td>...</td>\n",
       "      <td>-1.240020</td>\n",
       "      <td>-0.110000</td>\n",
       "      <td>-0.160000</td>\n",
       "      <td>0.095000</td>\n",
       "      <td>-0.350019</td>\n",
       "      <td>-0.300000</td>\n",
       "      <td>-1.150010</td>\n",
       "      <td>1.090000</td>\n",
       "      <td>-0.260000</td>\n",
       "      <td>-1.100000</td>\n",
       "    </tr>\n",
       "    <tr>\n",
       "      <th>V5</th>\n",
       "      <td>0.485000</td>\n",
       "      <td>-0.465000</td>\n",
       "      <td>0.395000</td>\n",
       "      <td>0.905000</td>\n",
       "      <td>0.200000</td>\n",
       "      <td>-5.000000e-03</td>\n",
       "      <td>0.085000</td>\n",
       "      <td>0.110000</td>\n",
       "      <td>0.235000</td>\n",
       "      <td>1.490019</td>\n",
       "      <td>...</td>\n",
       "      <td>0.554980</td>\n",
       "      <td>-0.775000</td>\n",
       "      <td>-0.515000</td>\n",
       "      <td>-0.320000</td>\n",
       "      <td>0.634980</td>\n",
       "      <td>0.605000</td>\n",
       "      <td>0.000000</td>\n",
       "      <td>0.745000</td>\n",
       "      <td>0.425000</td>\n",
       "      <td>0.145000</td>\n",
       "    </tr>\n",
       "    <tr>\n",
       "      <th>V6</th>\n",
       "      <td>0.310000</td>\n",
       "      <td>-0.030000</td>\n",
       "      <td>-0.100000</td>\n",
       "      <td>-0.460000</td>\n",
       "      <td>-0.205000</td>\n",
       "      <td>-5.400000e-01</td>\n",
       "      <td>-0.640000</td>\n",
       "      <td>-0.585000</td>\n",
       "      <td>-0.770000</td>\n",
       "      <td>-0.244980</td>\n",
       "      <td>...</td>\n",
       "      <td>-0.590020</td>\n",
       "      <td>0.000000</td>\n",
       "      <td>-0.740000</td>\n",
       "      <td>-2.095000</td>\n",
       "      <td>-1.390020</td>\n",
       "      <td>-0.400000</td>\n",
       "      <td>0.699990</td>\n",
       "      <td>0.290000</td>\n",
       "      <td>0.550000</td>\n",
       "      <td>0.000000</td>\n",
       "    </tr>\n",
       "    <tr>\n",
       "      <th>V7</th>\n",
       "      <td>-0.830000</td>\n",
       "      <td>0.000000</td>\n",
       "      <td>0.130000</td>\n",
       "      <td>-1.630000</td>\n",
       "      <td>0.075000</td>\n",
       "      <td>-3.600000e-01</td>\n",
       "      <td>0.100000</td>\n",
       "      <td>0.155000</td>\n",
       "      <td>-0.290000</td>\n",
       "      <td>-0.084981</td>\n",
       "      <td>...</td>\n",
       "      <td>0.189980</td>\n",
       "      <td>-0.220000</td>\n",
       "      <td>-0.030000</td>\n",
       "      <td>-0.495000</td>\n",
       "      <td>0.929980</td>\n",
       "      <td>0.470000</td>\n",
       "      <td>0.129990</td>\n",
       "      <td>-0.300000</td>\n",
       "      <td>0.570000</td>\n",
       "      <td>0.000000</td>\n",
       "    </tr>\n",
       "    <tr>\n",
       "      <th>V8</th>\n",
       "      <td>-0.190000</td>\n",
       "      <td>-0.870000</td>\n",
       "      <td>-0.450000</td>\n",
       "      <td>0.080000</td>\n",
       "      <td>0.005000</td>\n",
       "      <td>3.500000e-01</td>\n",
       "      <td>-0.040000</td>\n",
       "      <td>-0.265000</td>\n",
       "      <td>-0.310000</td>\n",
       "      <td>-0.244980</td>\n",
       "      <td>...</td>\n",
       "      <td>-0.210019</td>\n",
       "      <td>-0.170000</td>\n",
       "      <td>-0.420000</td>\n",
       "      <td>-0.395000</td>\n",
       "      <td>-0.570020</td>\n",
       "      <td>-0.090000</td>\n",
       "      <td>-0.700010</td>\n",
       "      <td>-0.540000</td>\n",
       "      <td>-0.450000</td>\n",
       "      <td>-2.090000</td>\n",
       "    </tr>\n",
       "    <tr>\n",
       "      <th>V9</th>\n",
       "      <td>0.460000</td>\n",
       "      <td>0.000000</td>\n",
       "      <td>1.150000</td>\n",
       "      <td>-1.400000</td>\n",
       "      <td>-0.005000</td>\n",
       "      <td>-7.000000e-01</td>\n",
       "      <td>-0.920000</td>\n",
       "      <td>-0.515000</td>\n",
       "      <td>-0.280000</td>\n",
       "      <td>-0.114980</td>\n",
       "      <td>...</td>\n",
       "      <td>0.089980</td>\n",
       "      <td>0.560000</td>\n",
       "      <td>0.410000</td>\n",
       "      <td>0.705000</td>\n",
       "      <td>-0.200019</td>\n",
       "      <td>-0.330000</td>\n",
       "      <td>-0.600010</td>\n",
       "      <td>0.830000</td>\n",
       "      <td>-0.030000</td>\n",
       "      <td>0.650000</td>\n",
       "    </tr>\n",
       "    <tr>\n",
       "      <th>V10</th>\n",
       "      <td>0.760000</td>\n",
       "      <td>1.490000</td>\n",
       "      <td>0.280000</td>\n",
       "      <td>0.100000</td>\n",
       "      <td>-0.525000</td>\n",
       "      <td>3.600000e-01</td>\n",
       "      <td>0.600000</td>\n",
       "      <td>0.175000</td>\n",
       "      <td>0.580000</td>\n",
       "      <td>1.145019</td>\n",
       "      <td>...</td>\n",
       "      <td>0.299980</td>\n",
       "      <td>-0.590000</td>\n",
       "      <td>-0.410000</td>\n",
       "      <td>-0.375000</td>\n",
       "      <td>-1.150020</td>\n",
       "      <td>-0.330000</td>\n",
       "      <td>-1.220010</td>\n",
       "      <td>-0.170000</td>\n",
       "      <td>-0.110000</td>\n",
       "      <td>-1.790000</td>\n",
       "    </tr>\n",
       "  </tbody>\n",
       "</table>\n",
       "<p>10 rows × 6830 columns</p>\n",
       "</div>"
      ],
      "text/plain": [
       "            1         2         3         4         5             6         7  \\\n",
       "V1   0.300000  1.180000  0.550000  1.140000 -0.265000 -7.000000e-02  0.350000   \n",
       "V2   0.679961  1.289961  0.169961  0.379961  0.464961  5.799610e-01  0.699961   \n",
       "V3   0.940000 -0.040000 -0.170000 -0.040000 -0.605000  0.000000e+00  0.090000   \n",
       "V4   0.280000 -0.310000  0.680000 -0.810000  0.625000 -1.387779e-17  0.170000   \n",
       "V5   0.485000 -0.465000  0.395000  0.905000  0.200000 -5.000000e-03  0.085000   \n",
       "V6   0.310000 -0.030000 -0.100000 -0.460000 -0.205000 -5.400000e-01 -0.640000   \n",
       "V7  -0.830000  0.000000  0.130000 -1.630000  0.075000 -3.600000e-01  0.100000   \n",
       "V8  -0.190000 -0.870000 -0.450000  0.080000  0.005000  3.500000e-01 -0.040000   \n",
       "V9   0.460000  0.000000  1.150000 -1.400000 -0.005000 -7.000000e-01 -0.920000   \n",
       "V10  0.760000  1.490000  0.280000  0.100000 -0.525000  3.600000e-01  0.600000   \n",
       "\n",
       "            8         9        10  ...      6821      6822      6823  \\\n",
       "V1  -0.315000 -0.450000 -0.654980  ... -0.990020  0.000000  0.030000   \n",
       "V2   0.724961 -0.040039 -0.285019  ... -0.270058 -0.300039 -0.250039   \n",
       "V3   0.645000  0.430000  0.475019  ...  0.319981  0.120000 -0.740000   \n",
       "V4   0.245000  0.020000  0.095019  ... -1.240020 -0.110000 -0.160000   \n",
       "V5   0.110000  0.235000  1.490019  ...  0.554980 -0.775000 -0.515000   \n",
       "V6  -0.585000 -0.770000 -0.244980  ... -0.590020  0.000000 -0.740000   \n",
       "V7   0.155000 -0.290000 -0.084981  ...  0.189980 -0.220000 -0.030000   \n",
       "V8  -0.265000 -0.310000 -0.244980  ... -0.210019 -0.170000 -0.420000   \n",
       "V9  -0.515000 -0.280000 -0.114980  ...  0.089980  0.560000  0.410000   \n",
       "V10  0.175000  0.580000  1.145019  ...  0.299980 -0.590000 -0.410000   \n",
       "\n",
       "         6824      6825      6826      6827      6828      6829      6830  \n",
       "V1  -0.175000  0.629981 -0.030000  0.000000  0.280000 -0.340000 -1.930000  \n",
       "V2  -0.535039  0.109941 -0.860039 -1.250049 -0.770039 -0.390039 -2.000039  \n",
       "V3  -0.595000 -0.270020 -0.150000  0.000000 -0.120000 -0.410000  0.000000  \n",
       "V4   0.095000 -0.350019 -0.300000 -1.150010  1.090000 -0.260000 -1.100000  \n",
       "V5  -0.320000  0.634980  0.605000  0.000000  0.745000  0.425000  0.145000  \n",
       "V6  -2.095000 -1.390020 -0.400000  0.699990  0.290000  0.550000  0.000000  \n",
       "V7  -0.495000  0.929980  0.470000  0.129990 -0.300000  0.570000  0.000000  \n",
       "V8  -0.395000 -0.570020 -0.090000 -0.700010 -0.540000 -0.450000 -2.090000  \n",
       "V9   0.705000 -0.200019 -0.330000 -0.600010  0.830000 -0.030000  0.650000  \n",
       "V10 -0.375000 -1.150020 -0.330000 -1.220010 -0.170000 -0.110000 -1.790000  \n",
       "\n",
       "[10 rows x 6830 columns]"
      ]
     },
     "execution_count": 4,
     "metadata": {},
     "output_type": "execute_result"
    }
   ],
   "source": [
    "df = pd.read_csv(r'C:\\Users\\NarayananM\\Videos\\ML-AI\\Dataset\\NCI60_X.csv', index_col=0)\n",
    "df.head(10)"
   ]
  },
  {
   "cell_type": "code",
   "execution_count": 5,
   "metadata": {},
   "outputs": [
    {
     "name": "stdout",
     "output_type": "stream",
     "text": [
      "<class 'pandas.core.frame.DataFrame'>\n",
      "Index: 64 entries, V1 to V64\n",
      "Columns: 6830 entries, 1 to 6830\n",
      "dtypes: float64(6830)\n",
      "memory usage: 3.3+ MB\n"
     ]
    }
   ],
   "source": [
    "df.info()\n"
   ]
  },
  {
   "cell_type": "code",
   "execution_count": 6,
   "metadata": {},
   "outputs": [],
   "source": [
    "x_raw = df.copy()\n"
   ]
  },
  {
   "cell_type": "code",
   "execution_count": 7,
   "metadata": {},
   "outputs": [],
   "source": [
    "from sklearn.cluster import KMeans, AgglomerativeClustering\n",
    "from sklearn.preprocessing import StandardScaler\n",
    "from sklearn.metrics import silhouette_score\n"
   ]
  },
  {
   "cell_type": "markdown",
   "metadata": {},
   "source": [
    "Standard scaling all columns"
   ]
  },
  {
   "cell_type": "code",
   "execution_count": 8,
   "metadata": {},
   "outputs": [],
   "source": [
    "scaler = StandardScaler()\n",
    "x_scaled = scaler.fit_transform(x_raw)"
   ]
  },
  {
   "cell_type": "markdown",
   "metadata": {},
   "source": [
    "Creating 4 means Cluster"
   ]
  },
  {
   "cell_type": "code",
   "execution_count": 9,
   "metadata": {},
   "outputs": [
    {
     "name": "stderr",
     "output_type": "stream",
     "text": [
      "c:\\Users\\NarayananM\\AppData\\Local\\Programs\\Python\\Python310\\lib\\site-packages\\sklearn\\cluster\\_kmeans.py:870: FutureWarning: The default value of `n_init` will change from 10 to 'auto' in 1.4. Set the value of `n_init` explicitly to suppress the warning\n",
      "  warnings.warn(\n"
     ]
    },
    {
     "data": {
      "text/html": [
       "<style>#sk-container-id-1 {color: black;background-color: white;}#sk-container-id-1 pre{padding: 0;}#sk-container-id-1 div.sk-toggleable {background-color: white;}#sk-container-id-1 label.sk-toggleable__label {cursor: pointer;display: block;width: 100%;margin-bottom: 0;padding: 0.3em;box-sizing: border-box;text-align: center;}#sk-container-id-1 label.sk-toggleable__label-arrow:before {content: \"▸\";float: left;margin-right: 0.25em;color: #696969;}#sk-container-id-1 label.sk-toggleable__label-arrow:hover:before {color: black;}#sk-container-id-1 div.sk-estimator:hover label.sk-toggleable__label-arrow:before {color: black;}#sk-container-id-1 div.sk-toggleable__content {max-height: 0;max-width: 0;overflow: hidden;text-align: left;background-color: #f0f8ff;}#sk-container-id-1 div.sk-toggleable__content pre {margin: 0.2em;color: black;border-radius: 0.25em;background-color: #f0f8ff;}#sk-container-id-1 input.sk-toggleable__control:checked~div.sk-toggleable__content {max-height: 200px;max-width: 100%;overflow: auto;}#sk-container-id-1 input.sk-toggleable__control:checked~label.sk-toggleable__label-arrow:before {content: \"▾\";}#sk-container-id-1 div.sk-estimator input.sk-toggleable__control:checked~label.sk-toggleable__label {background-color: #d4ebff;}#sk-container-id-1 div.sk-label input.sk-toggleable__control:checked~label.sk-toggleable__label {background-color: #d4ebff;}#sk-container-id-1 input.sk-hidden--visually {border: 0;clip: rect(1px 1px 1px 1px);clip: rect(1px, 1px, 1px, 1px);height: 1px;margin: -1px;overflow: hidden;padding: 0;position: absolute;width: 1px;}#sk-container-id-1 div.sk-estimator {font-family: monospace;background-color: #f0f8ff;border: 1px dotted black;border-radius: 0.25em;box-sizing: border-box;margin-bottom: 0.5em;}#sk-container-id-1 div.sk-estimator:hover {background-color: #d4ebff;}#sk-container-id-1 div.sk-parallel-item::after {content: \"\";width: 100%;border-bottom: 1px solid gray;flex-grow: 1;}#sk-container-id-1 div.sk-label:hover label.sk-toggleable__label {background-color: #d4ebff;}#sk-container-id-1 div.sk-serial::before {content: \"\";position: absolute;border-left: 1px solid gray;box-sizing: border-box;top: 0;bottom: 0;left: 50%;z-index: 0;}#sk-container-id-1 div.sk-serial {display: flex;flex-direction: column;align-items: center;background-color: white;padding-right: 0.2em;padding-left: 0.2em;position: relative;}#sk-container-id-1 div.sk-item {position: relative;z-index: 1;}#sk-container-id-1 div.sk-parallel {display: flex;align-items: stretch;justify-content: center;background-color: white;position: relative;}#sk-container-id-1 div.sk-item::before, #sk-container-id-1 div.sk-parallel-item::before {content: \"\";position: absolute;border-left: 1px solid gray;box-sizing: border-box;top: 0;bottom: 0;left: 50%;z-index: -1;}#sk-container-id-1 div.sk-parallel-item {display: flex;flex-direction: column;z-index: 1;position: relative;background-color: white;}#sk-container-id-1 div.sk-parallel-item:first-child::after {align-self: flex-end;width: 50%;}#sk-container-id-1 div.sk-parallel-item:last-child::after {align-self: flex-start;width: 50%;}#sk-container-id-1 div.sk-parallel-item:only-child::after {width: 0;}#sk-container-id-1 div.sk-dashed-wrapped {border: 1px dashed gray;margin: 0 0.4em 0.5em 0.4em;box-sizing: border-box;padding-bottom: 0.4em;background-color: white;}#sk-container-id-1 div.sk-label label {font-family: monospace;font-weight: bold;display: inline-block;line-height: 1.2em;}#sk-container-id-1 div.sk-label-container {text-align: center;}#sk-container-id-1 div.sk-container {/* jupyter's `normalize.less` sets `[hidden] { display: none; }` but bootstrap.min.css set `[hidden] { display: none !important; }` so we also need the `!important` here to be able to override the default hidden behavior on the sphinx rendered scikit-learn.org. See: https://github.com/scikit-learn/scikit-learn/issues/21755 */display: inline-block !important;position: relative;}#sk-container-id-1 div.sk-text-repr-fallback {display: none;}</style><div id=\"sk-container-id-1\" class=\"sk-top-container\"><div class=\"sk-text-repr-fallback\"><pre>KMeans(n_clusters=4)</pre><b>In a Jupyter environment, please rerun this cell to show the HTML representation or trust the notebook. <br />On GitHub, the HTML representation is unable to render, please try loading this page with nbviewer.org.</b></div><div class=\"sk-container\" hidden><div class=\"sk-item\"><div class=\"sk-estimator sk-toggleable\"><input class=\"sk-toggleable__control sk-hidden--visually\" id=\"sk-estimator-id-1\" type=\"checkbox\" checked><label for=\"sk-estimator-id-1\" class=\"sk-toggleable__label sk-toggleable__label-arrow\">KMeans</label><div class=\"sk-toggleable__content\"><pre>KMeans(n_clusters=4)</pre></div></div></div></div></div>"
      ],
      "text/plain": [
       "KMeans(n_clusters=4)"
      ]
     },
     "execution_count": 9,
     "metadata": {},
     "output_type": "execute_result"
    }
   ],
   "source": [
    "kmc = KMeans(n_clusters=4)\n",
    "kmc.fit(x_scaled)"
   ]
  },
  {
   "cell_type": "markdown",
   "metadata": {},
   "source": [
    "creating 4 agglomerative clusters\n",
    "\n"
   ]
  },
  {
   "cell_type": "code",
   "execution_count": 10,
   "metadata": {},
   "outputs": [
    {
     "data": {
      "text/html": [
       "<style>#sk-container-id-2 {color: black;background-color: white;}#sk-container-id-2 pre{padding: 0;}#sk-container-id-2 div.sk-toggleable {background-color: white;}#sk-container-id-2 label.sk-toggleable__label {cursor: pointer;display: block;width: 100%;margin-bottom: 0;padding: 0.3em;box-sizing: border-box;text-align: center;}#sk-container-id-2 label.sk-toggleable__label-arrow:before {content: \"▸\";float: left;margin-right: 0.25em;color: #696969;}#sk-container-id-2 label.sk-toggleable__label-arrow:hover:before {color: black;}#sk-container-id-2 div.sk-estimator:hover label.sk-toggleable__label-arrow:before {color: black;}#sk-container-id-2 div.sk-toggleable__content {max-height: 0;max-width: 0;overflow: hidden;text-align: left;background-color: #f0f8ff;}#sk-container-id-2 div.sk-toggleable__content pre {margin: 0.2em;color: black;border-radius: 0.25em;background-color: #f0f8ff;}#sk-container-id-2 input.sk-toggleable__control:checked~div.sk-toggleable__content {max-height: 200px;max-width: 100%;overflow: auto;}#sk-container-id-2 input.sk-toggleable__control:checked~label.sk-toggleable__label-arrow:before {content: \"▾\";}#sk-container-id-2 div.sk-estimator input.sk-toggleable__control:checked~label.sk-toggleable__label {background-color: #d4ebff;}#sk-container-id-2 div.sk-label input.sk-toggleable__control:checked~label.sk-toggleable__label {background-color: #d4ebff;}#sk-container-id-2 input.sk-hidden--visually {border: 0;clip: rect(1px 1px 1px 1px);clip: rect(1px, 1px, 1px, 1px);height: 1px;margin: -1px;overflow: hidden;padding: 0;position: absolute;width: 1px;}#sk-container-id-2 div.sk-estimator {font-family: monospace;background-color: #f0f8ff;border: 1px dotted black;border-radius: 0.25em;box-sizing: border-box;margin-bottom: 0.5em;}#sk-container-id-2 div.sk-estimator:hover {background-color: #d4ebff;}#sk-container-id-2 div.sk-parallel-item::after {content: \"\";width: 100%;border-bottom: 1px solid gray;flex-grow: 1;}#sk-container-id-2 div.sk-label:hover label.sk-toggleable__label {background-color: #d4ebff;}#sk-container-id-2 div.sk-serial::before {content: \"\";position: absolute;border-left: 1px solid gray;box-sizing: border-box;top: 0;bottom: 0;left: 50%;z-index: 0;}#sk-container-id-2 div.sk-serial {display: flex;flex-direction: column;align-items: center;background-color: white;padding-right: 0.2em;padding-left: 0.2em;position: relative;}#sk-container-id-2 div.sk-item {position: relative;z-index: 1;}#sk-container-id-2 div.sk-parallel {display: flex;align-items: stretch;justify-content: center;background-color: white;position: relative;}#sk-container-id-2 div.sk-item::before, #sk-container-id-2 div.sk-parallel-item::before {content: \"\";position: absolute;border-left: 1px solid gray;box-sizing: border-box;top: 0;bottom: 0;left: 50%;z-index: -1;}#sk-container-id-2 div.sk-parallel-item {display: flex;flex-direction: column;z-index: 1;position: relative;background-color: white;}#sk-container-id-2 div.sk-parallel-item:first-child::after {align-self: flex-end;width: 50%;}#sk-container-id-2 div.sk-parallel-item:last-child::after {align-self: flex-start;width: 50%;}#sk-container-id-2 div.sk-parallel-item:only-child::after {width: 0;}#sk-container-id-2 div.sk-dashed-wrapped {border: 1px dashed gray;margin: 0 0.4em 0.5em 0.4em;box-sizing: border-box;padding-bottom: 0.4em;background-color: white;}#sk-container-id-2 div.sk-label label {font-family: monospace;font-weight: bold;display: inline-block;line-height: 1.2em;}#sk-container-id-2 div.sk-label-container {text-align: center;}#sk-container-id-2 div.sk-container {/* jupyter's `normalize.less` sets `[hidden] { display: none; }` but bootstrap.min.css set `[hidden] { display: none !important; }` so we also need the `!important` here to be able to override the default hidden behavior on the sphinx rendered scikit-learn.org. See: https://github.com/scikit-learn/scikit-learn/issues/21755 */display: inline-block !important;position: relative;}#sk-container-id-2 div.sk-text-repr-fallback {display: none;}</style><div id=\"sk-container-id-2\" class=\"sk-top-container\"><div class=\"sk-text-repr-fallback\"><pre>AgglomerativeClustering(n_clusters=4)</pre><b>In a Jupyter environment, please rerun this cell to show the HTML representation or trust the notebook. <br />On GitHub, the HTML representation is unable to render, please try loading this page with nbviewer.org.</b></div><div class=\"sk-container\" hidden><div class=\"sk-item\"><div class=\"sk-estimator sk-toggleable\"><input class=\"sk-toggleable__control sk-hidden--visually\" id=\"sk-estimator-id-2\" type=\"checkbox\" checked><label for=\"sk-estimator-id-2\" class=\"sk-toggleable__label sk-toggleable__label-arrow\">AgglomerativeClustering</label><div class=\"sk-toggleable__content\"><pre>AgglomerativeClustering(n_clusters=4)</pre></div></div></div></div></div>"
      ],
      "text/plain": [
       "AgglomerativeClustering(n_clusters=4)"
      ]
     },
     "execution_count": 10,
     "metadata": {},
     "output_type": "execute_result"
    }
   ],
   "source": [
    "agg = AgglomerativeClustering(n_clusters=4)\n",
    "agg.fit(x_scaled)"
   ]
  },
  {
   "cell_type": "code",
   "execution_count": 11,
   "metadata": {},
   "outputs": [],
   "source": [
    "kmc_score = silhouette_score(x_scaled, kmc.labels_, metric = 'euclidean')\n",
    "agg_score = silhouette_score(x_scaled, agg.labels_, metric = 'euclidean')\n",
    "from sklearn.decomposition import PCA"
   ]
  },
  {
   "cell_type": "markdown",
   "metadata": {},
   "source": [
    "Reducing features to 25 principal components\n",
    "\n"
   ]
  },
  {
   "cell_type": "code",
   "execution_count": 12,
   "metadata": {},
   "outputs": [
    {
     "data": {
      "text/html": [
       "<div>\n",
       "<style scoped>\n",
       "    .dataframe tbody tr th:only-of-type {\n",
       "        vertical-align: middle;\n",
       "    }\n",
       "\n",
       "    .dataframe tbody tr th {\n",
       "        vertical-align: top;\n",
       "    }\n",
       "\n",
       "    .dataframe thead th {\n",
       "        text-align: right;\n",
       "    }\n",
       "</style>\n",
       "<table border=\"1\" class=\"dataframe\">\n",
       "  <thead>\n",
       "    <tr style=\"text-align: right;\">\n",
       "      <th></th>\n",
       "      <th>0</th>\n",
       "      <th>1</th>\n",
       "      <th>2</th>\n",
       "      <th>3</th>\n",
       "      <th>4</th>\n",
       "      <th>5</th>\n",
       "      <th>6</th>\n",
       "      <th>7</th>\n",
       "      <th>8</th>\n",
       "      <th>9</th>\n",
       "      <th>...</th>\n",
       "      <th>15</th>\n",
       "      <th>16</th>\n",
       "      <th>17</th>\n",
       "      <th>18</th>\n",
       "      <th>19</th>\n",
       "      <th>20</th>\n",
       "      <th>21</th>\n",
       "      <th>22</th>\n",
       "      <th>23</th>\n",
       "      <th>24</th>\n",
       "    </tr>\n",
       "  </thead>\n",
       "  <tbody>\n",
       "    <tr>\n",
       "      <th>0</th>\n",
       "      <td>-19.838010</td>\n",
       "      <td>-3.555084</td>\n",
       "      <td>-9.813614</td>\n",
       "      <td>-0.821617</td>\n",
       "      <td>12.622084</td>\n",
       "      <td>7.487003</td>\n",
       "      <td>14.225040</td>\n",
       "      <td>-3.212753</td>\n",
       "      <td>21.885170</td>\n",
       "      <td>-20.438572</td>\n",
       "      <td>...</td>\n",
       "      <td>-5.856465</td>\n",
       "      <td>20.338377</td>\n",
       "      <td>8.965569</td>\n",
       "      <td>-7.501994</td>\n",
       "      <td>7.606281</td>\n",
       "      <td>-8.523977</td>\n",
       "      <td>-7.726255</td>\n",
       "      <td>11.342460</td>\n",
       "      <td>13.744786</td>\n",
       "      <td>-8.703606</td>\n",
       "    </tr>\n",
       "    <tr>\n",
       "      <th>1</th>\n",
       "      <td>-23.089281</td>\n",
       "      <td>-6.441287</td>\n",
       "      <td>-13.480563</td>\n",
       "      <td>5.630160</td>\n",
       "      <td>8.029747</td>\n",
       "      <td>3.691756</td>\n",
       "      <td>10.064664</td>\n",
       "      <td>-7.105989</td>\n",
       "      <td>22.399309</td>\n",
       "      <td>-13.072259</td>\n",
       "      <td>...</td>\n",
       "      <td>5.923535</td>\n",
       "      <td>18.771922</td>\n",
       "      <td>3.283480</td>\n",
       "      <td>-9.345234</td>\n",
       "      <td>17.425771</td>\n",
       "      <td>0.469837</td>\n",
       "      <td>-10.270418</td>\n",
       "      <td>2.365019</td>\n",
       "      <td>9.577187</td>\n",
       "      <td>-4.404143</td>\n",
       "    </tr>\n",
       "    <tr>\n",
       "      <th>2</th>\n",
       "      <td>-27.456146</td>\n",
       "      <td>-2.465611</td>\n",
       "      <td>-3.533537</td>\n",
       "      <td>-1.344499</td>\n",
       "      <td>12.554028</td>\n",
       "      <td>17.366763</td>\n",
       "      <td>10.328099</td>\n",
       "      <td>-2.724287</td>\n",
       "      <td>-0.231955</td>\n",
       "      <td>-6.489722</td>\n",
       "      <td>...</td>\n",
       "      <td>-7.232803</td>\n",
       "      <td>13.082647</td>\n",
       "      <td>-0.979976</td>\n",
       "      <td>2.970580</td>\n",
       "      <td>5.487207</td>\n",
       "      <td>-1.870142</td>\n",
       "      <td>8.220575</td>\n",
       "      <td>-4.394878</td>\n",
       "      <td>0.798741</td>\n",
       "      <td>-6.798858</td>\n",
       "    </tr>\n",
       "    <tr>\n",
       "      <th>3</th>\n",
       "      <td>-42.816776</td>\n",
       "      <td>9.769027</td>\n",
       "      <td>-0.889312</td>\n",
       "      <td>3.451696</td>\n",
       "      <td>42.272594</td>\n",
       "      <td>27.226026</td>\n",
       "      <td>17.535947</td>\n",
       "      <td>-0.576422</td>\n",
       "      <td>14.222026</td>\n",
       "      <td>16.012480</td>\n",
       "      <td>...</td>\n",
       "      <td>-21.243643</td>\n",
       "      <td>-3.259466</td>\n",
       "      <td>1.740605</td>\n",
       "      <td>-2.181576</td>\n",
       "      <td>-0.113505</td>\n",
       "      <td>6.336872</td>\n",
       "      <td>-17.061644</td>\n",
       "      <td>7.402477</td>\n",
       "      <td>-15.381847</td>\n",
       "      <td>5.608499</td>\n",
       "    </tr>\n",
       "    <tr>\n",
       "      <th>4</th>\n",
       "      <td>-55.418626</td>\n",
       "      <td>5.197889</td>\n",
       "      <td>-21.096965</td>\n",
       "      <td>15.842177</td>\n",
       "      <td>10.433471</td>\n",
       "      <td>13.010981</td>\n",
       "      <td>12.520609</td>\n",
       "      <td>32.604115</td>\n",
       "      <td>-7.770059</td>\n",
       "      <td>-10.015255</td>\n",
       "      <td>...</td>\n",
       "      <td>-5.540954</td>\n",
       "      <td>-20.717428</td>\n",
       "      <td>-17.196559</td>\n",
       "      <td>2.965901</td>\n",
       "      <td>2.849611</td>\n",
       "      <td>3.026775</td>\n",
       "      <td>9.234126</td>\n",
       "      <td>5.168764</td>\n",
       "      <td>-11.042219</td>\n",
       "      <td>-18.400846</td>\n",
       "    </tr>\n",
       "    <tr>\n",
       "      <th>5</th>\n",
       "      <td>-27.177957</td>\n",
       "      <td>-6.780079</td>\n",
       "      <td>-21.813607</td>\n",
       "      <td>13.845315</td>\n",
       "      <td>-7.987684</td>\n",
       "      <td>0.720195</td>\n",
       "      <td>28.064835</td>\n",
       "      <td>31.204102</td>\n",
       "      <td>-10.942708</td>\n",
       "      <td>2.283789</td>\n",
       "      <td>...</td>\n",
       "      <td>-18.147717</td>\n",
       "      <td>-3.258536</td>\n",
       "      <td>12.334710</td>\n",
       "      <td>4.765415</td>\n",
       "      <td>-24.896999</td>\n",
       "      <td>-7.022384</td>\n",
       "      <td>-7.169699</td>\n",
       "      <td>-7.804731</td>\n",
       "      <td>-2.543070</td>\n",
       "      <td>29.388459</td>\n",
       "    </tr>\n",
       "    <tr>\n",
       "      <th>6</th>\n",
       "      <td>-31.445995</td>\n",
       "      <td>-3.864546</td>\n",
       "      <td>-30.350617</td>\n",
       "      <td>41.662017</td>\n",
       "      <td>-10.452015</td>\n",
       "      <td>-17.019854</td>\n",
       "      <td>23.694099</td>\n",
       "      <td>-0.991654</td>\n",
       "      <td>14.262976</td>\n",
       "      <td>-7.826823</td>\n",
       "      <td>...</td>\n",
       "      <td>14.333159</td>\n",
       "      <td>-16.562105</td>\n",
       "      <td>-12.073890</td>\n",
       "      <td>-13.817380</td>\n",
       "      <td>6.776309</td>\n",
       "      <td>-9.835944</td>\n",
       "      <td>1.381001</td>\n",
       "      <td>10.135966</td>\n",
       "      <td>7.474723</td>\n",
       "      <td>12.153172</td>\n",
       "    </tr>\n",
       "    <tr>\n",
       "      <th>7</th>\n",
       "      <td>-22.332412</td>\n",
       "      <td>-10.396517</td>\n",
       "      <td>-18.755385</td>\n",
       "      <td>6.943725</td>\n",
       "      <td>5.498087</td>\n",
       "      <td>11.702106</td>\n",
       "      <td>11.755921</td>\n",
       "      <td>22.873004</td>\n",
       "      <td>-3.629641</td>\n",
       "      <td>-5.092157</td>\n",
       "      <td>...</td>\n",
       "      <td>9.030394</td>\n",
       "      <td>16.321627</td>\n",
       "      <td>-5.293337</td>\n",
       "      <td>4.598433</td>\n",
       "      <td>-12.729747</td>\n",
       "      <td>30.604795</td>\n",
       "      <td>-3.453764</td>\n",
       "      <td>-2.458171</td>\n",
       "      <td>-14.007884</td>\n",
       "      <td>-7.730482</td>\n",
       "    </tr>\n",
       "    <tr>\n",
       "      <th>8</th>\n",
       "      <td>-14.289740</td>\n",
       "      <td>-16.108289</td>\n",
       "      <td>-19.758972</td>\n",
       "      <td>6.566975</td>\n",
       "      <td>3.839802</td>\n",
       "      <td>-8.016496</td>\n",
       "      <td>-13.051723</td>\n",
       "      <td>7.133822</td>\n",
       "      <td>0.896581</td>\n",
       "      <td>-7.921176</td>\n",
       "      <td>...</td>\n",
       "      <td>-6.561218</td>\n",
       "      <td>1.377108</td>\n",
       "      <td>-7.374956</td>\n",
       "      <td>1.176602</td>\n",
       "      <td>-3.671237</td>\n",
       "      <td>-9.307478</td>\n",
       "      <td>16.306643</td>\n",
       "      <td>0.857966</td>\n",
       "      <td>4.215990</td>\n",
       "      <td>-6.712076</td>\n",
       "    </tr>\n",
       "    <tr>\n",
       "      <th>9</th>\n",
       "      <td>-29.748137</td>\n",
       "      <td>-23.993860</td>\n",
       "      <td>-5.883771</td>\n",
       "      <td>-10.013447</td>\n",
       "      <td>-3.440430</td>\n",
       "      <td>11.702933</td>\n",
       "      <td>0.572454</td>\n",
       "      <td>7.970398</td>\n",
       "      <td>-20.141768</td>\n",
       "      <td>-28.076258</td>\n",
       "      <td>...</td>\n",
       "      <td>13.314848</td>\n",
       "      <td>-6.449753</td>\n",
       "      <td>36.617431</td>\n",
       "      <td>12.160617</td>\n",
       "      <td>17.671176</td>\n",
       "      <td>17.494872</td>\n",
       "      <td>28.170816</td>\n",
       "      <td>-4.555252</td>\n",
       "      <td>5.619443</td>\n",
       "      <td>11.936842</td>\n",
       "    </tr>\n",
       "  </tbody>\n",
       "</table>\n",
       "<p>10 rows × 25 columns</p>\n",
       "</div>"
      ],
      "text/plain": [
       "          0          1          2          3          4          5   \\\n",
       "0 -19.838010  -3.555084  -9.813614  -0.821617  12.622084   7.487003   \n",
       "1 -23.089281  -6.441287 -13.480563   5.630160   8.029747   3.691756   \n",
       "2 -27.456146  -2.465611  -3.533537  -1.344499  12.554028  17.366763   \n",
       "3 -42.816776   9.769027  -0.889312   3.451696  42.272594  27.226026   \n",
       "4 -55.418626   5.197889 -21.096965  15.842177  10.433471  13.010981   \n",
       "5 -27.177957  -6.780079 -21.813607  13.845315  -7.987684   0.720195   \n",
       "6 -31.445995  -3.864546 -30.350617  41.662017 -10.452015 -17.019854   \n",
       "7 -22.332412 -10.396517 -18.755385   6.943725   5.498087  11.702106   \n",
       "8 -14.289740 -16.108289 -19.758972   6.566975   3.839802  -8.016496   \n",
       "9 -29.748137 -23.993860  -5.883771 -10.013447  -3.440430  11.702933   \n",
       "\n",
       "          6          7          8          9   ...         15         16  \\\n",
       "0  14.225040  -3.212753  21.885170 -20.438572  ...  -5.856465  20.338377   \n",
       "1  10.064664  -7.105989  22.399309 -13.072259  ...   5.923535  18.771922   \n",
       "2  10.328099  -2.724287  -0.231955  -6.489722  ...  -7.232803  13.082647   \n",
       "3  17.535947  -0.576422  14.222026  16.012480  ... -21.243643  -3.259466   \n",
       "4  12.520609  32.604115  -7.770059 -10.015255  ...  -5.540954 -20.717428   \n",
       "5  28.064835  31.204102 -10.942708   2.283789  ... -18.147717  -3.258536   \n",
       "6  23.694099  -0.991654  14.262976  -7.826823  ...  14.333159 -16.562105   \n",
       "7  11.755921  22.873004  -3.629641  -5.092157  ...   9.030394  16.321627   \n",
       "8 -13.051723   7.133822   0.896581  -7.921176  ...  -6.561218   1.377108   \n",
       "9   0.572454   7.970398 -20.141768 -28.076258  ...  13.314848  -6.449753   \n",
       "\n",
       "          17         18         19         20         21         22  \\\n",
       "0   8.965569  -7.501994   7.606281  -8.523977  -7.726255  11.342460   \n",
       "1   3.283480  -9.345234  17.425771   0.469837 -10.270418   2.365019   \n",
       "2  -0.979976   2.970580   5.487207  -1.870142   8.220575  -4.394878   \n",
       "3   1.740605  -2.181576  -0.113505   6.336872 -17.061644   7.402477   \n",
       "4 -17.196559   2.965901   2.849611   3.026775   9.234126   5.168764   \n",
       "5  12.334710   4.765415 -24.896999  -7.022384  -7.169699  -7.804731   \n",
       "6 -12.073890 -13.817380   6.776309  -9.835944   1.381001  10.135966   \n",
       "7  -5.293337   4.598433 -12.729747  30.604795  -3.453764  -2.458171   \n",
       "8  -7.374956   1.176602  -3.671237  -9.307478  16.306643   0.857966   \n",
       "9  36.617431  12.160617  17.671176  17.494872  28.170816  -4.555252   \n",
       "\n",
       "          23         24  \n",
       "0  13.744786  -8.703606  \n",
       "1   9.577187  -4.404143  \n",
       "2   0.798741  -6.798858  \n",
       "3 -15.381847   5.608499  \n",
       "4 -11.042219 -18.400846  \n",
       "5  -2.543070  29.388459  \n",
       "6   7.474723  12.153172  \n",
       "7 -14.007884  -7.730482  \n",
       "8   4.215990  -6.712076  \n",
       "9   5.619443  11.936842  \n",
       "\n",
       "[10 rows x 25 columns]"
      ]
     },
     "execution_count": 12,
     "metadata": {},
     "output_type": "execute_result"
    }
   ],
   "source": [
    "pca = PCA(n_components=25)\n",
    "x_scaled_pca = pca.fit_transform(x_scaled)\n",
    "scaled_pca_df = pd.DataFrame(x_scaled_pca)\n",
    "scaled_pca_df.head(10)"
   ]
  },
  {
   "cell_type": "code",
   "execution_count": 13,
   "metadata": {},
   "outputs": [
    {
     "name": "stdout",
     "output_type": "stream",
     "text": [
      "[0.11358942 0.06756202 0.05751842 0.04247553 0.03734963 0.03618613\n",
      " 0.0306609  0.02685765 0.02529401 0.02375658 0.02356126 0.02162907\n",
      " 0.02048069 0.01978191 0.0191366  0.01769121 0.01661708 0.01606422\n",
      " 0.01587087 0.01543472 0.0150371  0.01474485 0.0143249  0.01347311\n",
      " 0.01310603]\n",
      "0.7182039000618479\n"
     ]
    }
   ],
   "source": [
    "print(pca.explained_variance_ratio_)\n",
    "print(pca.explained_variance_ratio_.sum())"
   ]
  },
  {
   "cell_type": "code",
   "execution_count": 14,
   "metadata": {},
   "outputs": [
    {
     "data": {
      "image/png": "[encoded data removed]",
      "text/plain": [
       "<Figure size 432x288 with 1 Axes>"
      ]
     },
     "metadata": {
      "needs_background": "light"
     },
     "output_type": "display_data"
    }
   ],
   "source": [
    "ax = sns.lineplot(pca.explained_variance_)\n",
    "ax.set_title(\"Scree plot\")\n",
    "ax.set_xlabel(\"Index of principal components\")\n",
    "ax.set_ylabel(\"The explained variance\")\n",
    "plt.show()"
   ]
  },
  {
   "cell_type": "code",
   "execution_count": 15,
   "metadata": {},
   "outputs": [
    {
     "data": {
      "image/png": "[encoded data removed]",
      "text/plain": [
       "<Figure size 720x432 with 1 Axes>"
      ]
     },
     "metadata": {
      "needs_background": "light"
     },
     "output_type": "display_data"
    }
   ],
   "source": [
    "plt.figure(figsize=(10,6))\n",
    "plt.scatter(x_scaled_pca[:,0],x_scaled_pca[:,1],edgecolors='k',alpha=0.75,s=150)\n",
    "plt.grid(True)\n",
    "plt.title(\"Class separation using first two principal components\\n\",fontsize=20)\n",
    "plt.xlabel(\"Principal component-1\",fontsize=15)\n",
    "plt.ylabel(\"Principal component-2\",fontsize=15)\n",
    "plt.show()"
   ]
  },
  {
   "cell_type": "markdown",
   "metadata": {},
   "source": [
    "creating 4 kmeans clusters on pca reduced dataset\n",
    "\n"
   ]
  },
  {
   "cell_type": "code",
   "execution_count": 16,
   "metadata": {},
   "outputs": [
    {
     "name": "stderr",
     "output_type": "stream",
     "text": [
      "c:\\Users\\NarayananM\\AppData\\Local\\Programs\\Python\\Python310\\lib\\site-packages\\sklearn\\cluster\\_kmeans.py:870: FutureWarning: The default value of `n_init` will change from 10 to 'auto' in 1.4. Set the value of `n_init` explicitly to suppress the warning\n",
      "  warnings.warn(\n"
     ]
    },
    {
     "data": {
      "text/html": [
       "<style>#sk-container-id-3 {color: black;background-color: white;}#sk-container-id-3 pre{padding: 0;}#sk-container-id-3 div.sk-toggleable {background-color: white;}#sk-container-id-3 label.sk-toggleable__label {cursor: pointer;display: block;width: 100%;margin-bottom: 0;padding: 0.3em;box-sizing: border-box;text-align: center;}#sk-container-id-3 label.sk-toggleable__label-arrow:before {content: \"▸\";float: left;margin-right: 0.25em;color: #696969;}#sk-container-id-3 label.sk-toggleable__label-arrow:hover:before {color: black;}#sk-container-id-3 div.sk-estimator:hover label.sk-toggleable__label-arrow:before {color: black;}#sk-container-id-3 div.sk-toggleable__content {max-height: 0;max-width: 0;overflow: hidden;text-align: left;background-color: #f0f8ff;}#sk-container-id-3 div.sk-toggleable__content pre {margin: 0.2em;color: black;border-radius: 0.25em;background-color: #f0f8ff;}#sk-container-id-3 input.sk-toggleable__control:checked~div.sk-toggleable__content {max-height: 200px;max-width: 100%;overflow: auto;}#sk-container-id-3 input.sk-toggleable__control:checked~label.sk-toggleable__label-arrow:before {content: \"▾\";}#sk-container-id-3 div.sk-estimator input.sk-toggleable__control:checked~label.sk-toggleable__label {background-color: #d4ebff;}#sk-container-id-3 div.sk-label input.sk-toggleable__control:checked~label.sk-toggleable__label {background-color: #d4ebff;}#sk-container-id-3 input.sk-hidden--visually {border: 0;clip: rect(1px 1px 1px 1px);clip: rect(1px, 1px, 1px, 1px);height: 1px;margin: -1px;overflow: hidden;padding: 0;position: absolute;width: 1px;}#sk-container-id-3 div.sk-estimator {font-family: monospace;background-color: #f0f8ff;border: 1px dotted black;border-radius: 0.25em;box-sizing: border-box;margin-bottom: 0.5em;}#sk-container-id-3 div.sk-estimator:hover {background-color: #d4ebff;}#sk-container-id-3 div.sk-parallel-item::after {content: \"\";width: 100%;border-bottom: 1px solid gray;flex-grow: 1;}#sk-container-id-3 div.sk-label:hover label.sk-toggleable__label {background-color: #d4ebff;}#sk-container-id-3 div.sk-serial::before {content: \"\";position: absolute;border-left: 1px solid gray;box-sizing: border-box;top: 0;bottom: 0;left: 50%;z-index: 0;}#sk-container-id-3 div.sk-serial {display: flex;flex-direction: column;align-items: center;background-color: white;padding-right: 0.2em;padding-left: 0.2em;position: relative;}#sk-container-id-3 div.sk-item {position: relative;z-index: 1;}#sk-container-id-3 div.sk-parallel {display: flex;align-items: stretch;justify-content: center;background-color: white;position: relative;}#sk-container-id-3 div.sk-item::before, #sk-container-id-3 div.sk-parallel-item::before {content: \"\";position: absolute;border-left: 1px solid gray;box-sizing: border-box;top: 0;bottom: 0;left: 50%;z-index: -1;}#sk-container-id-3 div.sk-parallel-item {display: flex;flex-direction: column;z-index: 1;position: relative;background-color: white;}#sk-container-id-3 div.sk-parallel-item:first-child::after {align-self: flex-end;width: 50%;}#sk-container-id-3 div.sk-parallel-item:last-child::after {align-self: flex-start;width: 50%;}#sk-container-id-3 div.sk-parallel-item:only-child::after {width: 0;}#sk-container-id-3 div.sk-dashed-wrapped {border: 1px dashed gray;margin: 0 0.4em 0.5em 0.4em;box-sizing: border-box;padding-bottom: 0.4em;background-color: white;}#sk-container-id-3 div.sk-label label {font-family: monospace;font-weight: bold;display: inline-block;line-height: 1.2em;}#sk-container-id-3 div.sk-label-container {text-align: center;}#sk-container-id-3 div.sk-container {/* jupyter's `normalize.less` sets `[hidden] { display: none; }` but bootstrap.min.css set `[hidden] { display: none !important; }` so we also need the `!important` here to be able to override the default hidden behavior on the sphinx rendered scikit-learn.org. See: https://github.com/scikit-learn/scikit-learn/issues/21755 */display: inline-block !important;position: relative;}#sk-container-id-3 div.sk-text-repr-fallback {display: none;}</style><div id=\"sk-container-id-3\" class=\"sk-top-container\"><div class=\"sk-text-repr-fallback\"><pre>KMeans(n_clusters=4)</pre><b>In a Jupyter environment, please rerun this cell to show the HTML representation or trust the notebook. <br />On GitHub, the HTML representation is unable to render, please try loading this page with nbviewer.org.</b></div><div class=\"sk-container\" hidden><div class=\"sk-item\"><div class=\"sk-estimator sk-toggleable\"><input class=\"sk-toggleable__control sk-hidden--visually\" id=\"sk-estimator-id-3\" type=\"checkbox\" checked><label for=\"sk-estimator-id-3\" class=\"sk-toggleable__label sk-toggleable__label-arrow\">KMeans</label><div class=\"sk-toggleable__content\"><pre>KMeans(n_clusters=4)</pre></div></div></div></div></div>"
      ],
      "text/plain": [
       "KMeans(n_clusters=4)"
      ]
     },
     "execution_count": 16,
     "metadata": {},
     "output_type": "execute_result"
    }
   ],
   "source": [
    "kmc_pca = KMeans(n_clusters=4)\n",
    "kmc_pca.fit(x_scaled_pca)"
   ]
  },
  {
   "cell_type": "markdown",
   "metadata": {},
   "source": [
    "creating 4 kmeans Aggregate clusters on pca reduced dataset\n",
    "\n"
   ]
  },
  {
   "cell_type": "code",
   "execution_count": 17,
   "metadata": {},
   "outputs": [
    {
     "data": {
      "text/html": [
       "<style>#sk-container-id-4 {color: black;background-color: white;}#sk-container-id-4 pre{padding: 0;}#sk-container-id-4 div.sk-toggleable {background-color: white;}#sk-container-id-4 label.sk-toggleable__label {cursor: pointer;display: block;width: 100%;margin-bottom: 0;padding: 0.3em;box-sizing: border-box;text-align: center;}#sk-container-id-4 label.sk-toggleable__label-arrow:before {content: \"▸\";float: left;margin-right: 0.25em;color: #696969;}#sk-container-id-4 label.sk-toggleable__label-arrow:hover:before {color: black;}#sk-container-id-4 div.sk-estimator:hover label.sk-toggleable__label-arrow:before {color: black;}#sk-container-id-4 div.sk-toggleable__content {max-height: 0;max-width: 0;overflow: hidden;text-align: left;background-color: #f0f8ff;}#sk-container-id-4 div.sk-toggleable__content pre {margin: 0.2em;color: black;border-radius: 0.25em;background-color: #f0f8ff;}#sk-container-id-4 input.sk-toggleable__control:checked~div.sk-toggleable__content {max-height: 200px;max-width: 100%;overflow: auto;}#sk-container-id-4 input.sk-toggleable__control:checked~label.sk-toggleable__label-arrow:before {content: \"▾\";}#sk-container-id-4 div.sk-estimator input.sk-toggleable__control:checked~label.sk-toggleable__label {background-color: #d4ebff;}#sk-container-id-4 div.sk-label input.sk-toggleable__control:checked~label.sk-toggleable__label {background-color: #d4ebff;}#sk-container-id-4 input.sk-hidden--visually {border: 0;clip: rect(1px 1px 1px 1px);clip: rect(1px, 1px, 1px, 1px);height: 1px;margin: -1px;overflow: hidden;padding: 0;position: absolute;width: 1px;}#sk-container-id-4 div.sk-estimator {font-family: monospace;background-color: #f0f8ff;border: 1px dotted black;border-radius: 0.25em;box-sizing: border-box;margin-bottom: 0.5em;}#sk-container-id-4 div.sk-estimator:hover {background-color: #d4ebff;}#sk-container-id-4 div.sk-parallel-item::after {content: \"\";width: 100%;border-bottom: 1px solid gray;flex-grow: 1;}#sk-container-id-4 div.sk-label:hover label.sk-toggleable__label {background-color: #d4ebff;}#sk-container-id-4 div.sk-serial::before {content: \"\";position: absolute;border-left: 1px solid gray;box-sizing: border-box;top: 0;bottom: 0;left: 50%;z-index: 0;}#sk-container-id-4 div.sk-serial {display: flex;flex-direction: column;align-items: center;background-color: white;padding-right: 0.2em;padding-left: 0.2em;position: relative;}#sk-container-id-4 div.sk-item {position: relative;z-index: 1;}#sk-container-id-4 div.sk-parallel {display: flex;align-items: stretch;justify-content: center;background-color: white;position: relative;}#sk-container-id-4 div.sk-item::before, #sk-container-id-4 div.sk-parallel-item::before {content: \"\";position: absolute;border-left: 1px solid gray;box-sizing: border-box;top: 0;bottom: 0;left: 50%;z-index: -1;}#sk-container-id-4 div.sk-parallel-item {display: flex;flex-direction: column;z-index: 1;position: relative;background-color: white;}#sk-container-id-4 div.sk-parallel-item:first-child::after {align-self: flex-end;width: 50%;}#sk-container-id-4 div.sk-parallel-item:last-child::after {align-self: flex-start;width: 50%;}#sk-container-id-4 div.sk-parallel-item:only-child::after {width: 0;}#sk-container-id-4 div.sk-dashed-wrapped {border: 1px dashed gray;margin: 0 0.4em 0.5em 0.4em;box-sizing: border-box;padding-bottom: 0.4em;background-color: white;}#sk-container-id-4 div.sk-label label {font-family: monospace;font-weight: bold;display: inline-block;line-height: 1.2em;}#sk-container-id-4 div.sk-label-container {text-align: center;}#sk-container-id-4 div.sk-container {/* jupyter's `normalize.less` sets `[hidden] { display: none; }` but bootstrap.min.css set `[hidden] { display: none !important; }` so we also need the `!important` here to be able to override the default hidden behavior on the sphinx rendered scikit-learn.org. See: https://github.com/scikit-learn/scikit-learn/issues/21755 */display: inline-block !important;position: relative;}#sk-container-id-4 div.sk-text-repr-fallback {display: none;}</style><div id=\"sk-container-id-4\" class=\"sk-top-container\"><div class=\"sk-text-repr-fallback\"><pre>AgglomerativeClustering(n_clusters=4)</pre><b>In a Jupyter environment, please rerun this cell to show the HTML representation or trust the notebook. <br />On GitHub, the HTML representation is unable to render, please try loading this page with nbviewer.org.</b></div><div class=\"sk-container\" hidden><div class=\"sk-item\"><div class=\"sk-estimator sk-toggleable\"><input class=\"sk-toggleable__control sk-hidden--visually\" id=\"sk-estimator-id-4\" type=\"checkbox\" checked><label for=\"sk-estimator-id-4\" class=\"sk-toggleable__label sk-toggleable__label-arrow\">AgglomerativeClustering</label><div class=\"sk-toggleable__content\"><pre>AgglomerativeClustering(n_clusters=4)</pre></div></div></div></div></div>"
      ],
      "text/plain": [
       "AgglomerativeClustering(n_clusters=4)"
      ]
     },
     "execution_count": 17,
     "metadata": {},
     "output_type": "execute_result"
    }
   ],
   "source": [
    "agg_pca = AgglomerativeClustering(n_clusters=4)\n",
    "agg_pca.fit(x_scaled_pca)"
   ]
  },
  {
   "cell_type": "code",
   "execution_count": 18,
   "metadata": {},
   "outputs": [],
   "source": [
    "kmc_score_pca = silhouette_score(x_scaled_pca, kmc_pca.labels_, metric = 'euclidean')\n",
    "agg_score_pca = silhouette_score(x_scaled_pca, agg_pca.labels_, metric = 'euclidean')"
   ]
  },
  {
   "cell_type": "markdown",
   "metadata": {},
   "source": [
    "Comparing Score"
   ]
  },
  {
   "cell_type": "code",
   "execution_count": 19,
   "metadata": {},
   "outputs": [
    {
     "data": {
      "text/html": [
       "<div>\n",
       "<style scoped>\n",
       "    .dataframe tbody tr th:only-of-type {\n",
       "        vertical-align: middle;\n",
       "    }\n",
       "\n",
       "    .dataframe tbody tr th {\n",
       "        vertical-align: top;\n",
       "    }\n",
       "\n",
       "    .dataframe thead th {\n",
       "        text-align: right;\n",
       "    }\n",
       "</style>\n",
       "<table border=\"1\" class=\"dataframe\">\n",
       "  <thead>\n",
       "    <tr style=\"text-align: right;\">\n",
       "      <th></th>\n",
       "      <th>KMeans</th>\n",
       "      <th>Agglomerative</th>\n",
       "    </tr>\n",
       "    <tr>\n",
       "      <th>Dataset</th>\n",
       "      <th></th>\n",
       "      <th></th>\n",
       "    </tr>\n",
       "  </thead>\n",
       "  <tbody>\n",
       "    <tr>\n",
       "      <th>Raw Data</th>\n",
       "      <td>0.073473</td>\n",
       "      <td>0.076382</td>\n",
       "    </tr>\n",
       "    <tr>\n",
       "      <th>PCA reduced</th>\n",
       "      <td>0.132655</td>\n",
       "      <td>0.124592</td>\n",
       "    </tr>\n",
       "  </tbody>\n",
       "</table>\n",
       "</div>"
      ],
      "text/plain": [
       "               KMeans  Agglomerative\n",
       "Dataset                             \n",
       "Raw Data     0.073473       0.076382\n",
       "PCA reduced  0.132655       0.124592"
      ]
     },
     "execution_count": 19,
     "metadata": {},
     "output_type": "execute_result"
    }
   ],
   "source": [
    "comparison = (('Raw Data', kmc_score, agg_score),\n",
    "      ('PCA reduced', kmc_score_pca, agg_score_pca))\n",
    "comparison_df = pd.DataFrame(comparison, columns = [\"Dataset\", \"KMeans\", \"Agglomerative\"])\n",
    "comparison_df.set_index('Dataset', inplace=True)\n",
    "comparison_df\n"
   ]
  },
  {
   "cell_type": "code",
   "execution_count": 20,
   "metadata": {},
   "outputs": [
    {
     "data": {
      "image/png": "[encoded data removed]",
      "text/plain": [
       "<Figure size 432x288 with 2 Axes>"
      ]
     },
     "metadata": {
      "needs_background": "light"
     },
     "output_type": "display_data"
    }
   ],
   "source": [
    "sil_comparison = sns.heatmap(comparison_df,cmap='binary', annot=True)\n",
    "sil_comparison.set_title(\"Silhoutte Score comparison\",fontsize=15)\n",
    "plt.show()"
   ]
  },
  {
   "cell_type": "markdown",
   "metadata": {},
   "source": [
    "Plotting Comparisson"
   ]
  },
  {
   "cell_type": "code",
   "execution_count": 21,
   "metadata": {},
   "outputs": [
    {
     "name": "stderr",
     "output_type": "stream",
     "text": [
      "c:\\Users\\NarayananM\\AppData\\Local\\Programs\\Python\\Python310\\lib\\site-packages\\sklearn\\cluster\\_kmeans.py:870: FutureWarning: The default value of `n_init` will change from 10 to 'auto' in 1.4. Set the value of `n_init` explicitly to suppress the warning\n",
      "  warnings.warn(\n"
     ]
    },
    {
     "data": {
      "image/png": "[encoded data removed]",
      "text/plain": [
       "<Figure size 432x288 with 1 Axes>"
      ]
     },
     "metadata": {
      "needs_background": "light"
     },
     "output_type": "display_data"
    }
   ],
   "source": [
    "y_kmc = kmc.fit_predict(x_scaled)\n",
    "plt.scatter(x_scaled[y_kmc==0, 0], x_scaled[y_kmc==0, 1], s=50, c='red', label ='KMC Cluster 1')\n",
    "plt.scatter(x_scaled[y_kmc==1, 0], x_scaled[y_kmc==1, 1], s=50, c='blue', label ='KMC Cluster 2')\n",
    "plt.scatter(x_scaled[y_kmc==2, 0], x_scaled[y_kmc==2, 1], s=50, c='green', label ='KMC Cluster 3')\n",
    "plt.scatter(x_scaled[y_kmc==3, 0], x_scaled[y_kmc==3, 1], s=50, c='cyan', label ='KMC Cluster 4')\n",
    "#Plot the centroid. This time we're going to use the cluster centres  #attribute that returns here the coordinates of the centroid.\n",
    "plt.scatter(kmc.cluster_centers_[:, 0], kmc.cluster_centers_[:, 1], s=100, c='yellow',edgecolors='k', label = 'Centroids KMC')\n",
    "plt.title('KMeans Clusters')\n",
    "plt.show()"
   ]
  },
  {
   "cell_type": "code",
   "execution_count": 22,
   "metadata": {},
   "outputs": [
    {
     "name": "stderr",
     "output_type": "stream",
     "text": [
      "c:\\Users\\NarayananM\\AppData\\Local\\Programs\\Python\\Python310\\lib\\site-packages\\sklearn\\cluster\\_kmeans.py:870: FutureWarning: The default value of `n_init` will change from 10 to 'auto' in 1.4. Set the value of `n_init` explicitly to suppress the warning\n",
      "  warnings.warn(\n"
     ]
    },
    {
     "data": {
      "image/png": "[encoded data removed]",
      "text/plain": [
       "<Figure size 432x288 with 1 Axes>"
      ]
     },
     "metadata": {
      "needs_background": "light"
     },
     "output_type": "display_data"
    }
   ],
   "source": [
    "y_kmc_pca = kmc_pca.fit_predict(x_scaled_pca)\n",
    "plt.scatter(x_scaled_pca[y_kmc_pca==0, 0], x_scaled_pca[y_kmc_pca==0, 1], s=50, c='red', label ='KMC PCA Cluster 1')\n",
    "plt.scatter(x_scaled_pca[y_kmc_pca==1, 0], x_scaled_pca[y_kmc_pca==1, 1], s=50, c='blue', label ='KMC PCA Cluster 2')\n",
    "plt.scatter(x_scaled_pca[y_kmc_pca==2, 0], x_scaled_pca[y_kmc_pca==2, 1], s=50, c='green', label ='KMC PCA Cluster 3')\n",
    "plt.scatter(x_scaled_pca[y_kmc_pca==3, 0], x_scaled_pca[y_kmc_pca==3, 1], s=50, c='cyan', label ='KMC PCA Cluster 4')\n",
    "#Plot the centroid. This time we're going to use the cluster centres  #attribute that returns here the coordinates of the centroid.\n",
    "plt.scatter(kmc_pca.cluster_centers_[:, 0], kmc_pca.cluster_centers_[:, 1], s=100, c='yellow',edgecolors='k', label = 'Centroids KMC PCA')\n",
    "plt.title('KMeans Clusters after PCA reduction')\n",
    "plt.show()"
   ]
  },
  {
   "cell_type": "code",
   "execution_count": 23,
   "metadata": {},
   "outputs": [
    {
     "data": {
      "image/png": "[encoded data removed]",
      "text/plain": [
       "<Figure size 432x288 with 1 Axes>"
      ]
     },
     "metadata": {
      "needs_background": "light"
     },
     "output_type": "display_data"
    }
   ],
   "source": [
    "y_agg = agg.fit_predict(x_scaled)\n",
    "plt.scatter(x_scaled[y_agg==0, 0], x_scaled[y_agg==0, 1], s=50, c='red', label ='Agg Cluster 1')\n",
    "plt.scatter(x_scaled[y_agg==1, 0], x_scaled[y_agg==1, 1], s=50, c='blue', label ='Agg Cluster 2')\n",
    "plt.scatter(x_scaled[y_agg==2, 0], x_scaled[y_agg==2, 1], s=50, c='green', label ='Agg Cluster 3')\n",
    "plt.scatter(x_scaled[y_agg==3, 0], x_scaled[y_agg==3, 1], s=50, c='cyan', label ='Agg Cluster 4')\n",
    "#Plot the centroid. This time we're going to use the cluster centres  #attribute that returns here the coordinates of the centroid.\n",
    "#plt.scatter(agg.cluster_centers_[:, 0], agg.cluster_centers_[:, 1], s=100, c='yellow',edgecolors='k', label = 'Centroids Agg')\n",
    "plt.title('Agglomerative Clusters')\n",
    "plt.show()"
   ]
  },
  {
   "cell_type": "code",
   "execution_count": 24,
   "metadata": {},
   "outputs": [
    {
     "data": {
      "image/png": "[encoded data removed]",
      "text/plain": [
       "<Figure size 432x288 with 1 Axes>"
      ]
     },
     "metadata": {
      "needs_background": "light"
     },
     "output_type": "display_data"
    }
   ],
   "source": [
    "y_agg_pca = agg_pca.fit_predict(x_scaled_pca)\n",
    "plt.scatter(x_scaled_pca[y_agg_pca==0, 0], x_scaled_pca[y_agg_pca==0, 1], s=50, c='red', label ='Agg PCA Cluster 1')\n",
    "plt.scatter(x_scaled_pca[y_agg_pca==1, 0], x_scaled_pca[y_agg_pca==1, 1], s=50, c='blue', label ='Agg PCA Cluster 2')\n",
    "plt.scatter(x_scaled_pca[y_agg_pca==2, 0], x_scaled_pca[y_agg_pca==2, 1], s=50, c='green', label ='Agg PCA Cluster 3')\n",
    "plt.scatter(x_scaled_pca[y_agg_pca==3, 0], x_scaled_pca[y_agg_pca==3, 1], s=50, c='cyan', label ='Agg PCA Cluster 4')\n",
    "#Plot the centroid. This time we're going to use the cluster centres  #attribute that returns here the coordinates of the centroid.\n",
    "#plt.scatter(agg_pca.cluster_centers_[:, 0], agg_pca.cluster_centers_[:, 1], s=100, c='yellow',edgecolors='k', label = 'Centroids Agg PCA')\n",
    "plt.title('Agglomerative Clusters after PCA reduction')\n",
    "plt.show()"
   ]
  }
 ],
 "metadata": {
  "kernelspec": {
   "display_name": "Python 3.10.4 64-bit",
   "language": "python",
   "name": "python3"
  },
  "language_info": {
   "codemirror_mode": {
    "name": "ipython",
    "version": 3
   },
   "file_extension": ".py",
   "mimetype": "text/x-python",
   "name": "python",
   "nbconvert_exporter": "python",
   "pygments_lexer": "ipython3",
   "version": "3.10.4"
  },
  "orig_nbformat": 4,
  "vscode": {
   "interpreter": {
    "hash": "109ad9ce8c10f572881faa7a12db2aa1105b5a37631c4edd02eb56d19b717e68"
   }
  }
 },
 "nbformat": 4,
 "nbformat_minor": 2
}
